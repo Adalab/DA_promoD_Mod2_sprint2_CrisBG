{
 "cells": [
  {
   "cell_type": "code",
   "execution_count": 3,
   "metadata": {},
   "outputs": [],
   "source": [
    "import sys\n",
    "sys.path.append(\"../\")\n",
    "from src import soporte as sp\n",
    "from src import variables as var"
   ]
  },
  {
   "cell_type": "code",
   "execution_count": 4,
   "metadata": {},
   "outputs": [],
   "source": [
    "country_list = [\"Canada\", \"United States\", \"Argentina\"]"
   ]
  },
  {
   "cell_type": "code",
   "execution_count": 5,
   "metadata": {},
   "outputs": [],
   "source": [
    "api = sp.Unis_Countries(country_list)"
   ]
  },
  {
   "cell_type": "code",
   "execution_count": 6,
   "metadata": {},
   "outputs": [
    {
     "name": "stdout",
     "output_type": "stream",
     "text": [
      "La peticion se ha realizado correctamente, se ha devuelto el código de estado: 200  y como razón del código de estado:  OK\n",
      "La peticion se ha realizado correctamente, se ha devuelto el código de estado: 200  y como razón del código de estado:  OK\n",
      "La peticion se ha realizado correctamente, se ha devuelto el código de estado: 200  y como razón del código de estado:  OK\n"
     ]
    }
   ],
   "source": [
    "df_uni_countries = api.calling_api()"
   ]
  },
  {
   "cell_type": "code",
   "execution_count": 7,
   "metadata": {},
   "outputs": [],
   "source": [
    "df_uni_countries = api.clean(df_uni_countries)"
   ]
  },
  {
   "cell_type": "code",
   "execution_count": 8,
   "metadata": {},
   "outputs": [],
   "source": [
    "df_uni_countries = api.expand_rows(df_uni_countries, \"web_pages\")"
   ]
  },
  {
   "cell_type": "code",
   "execution_count": 9,
   "metadata": {},
   "outputs": [
    {
     "data": {
      "text/html": [
       "<div>\n",
       "<style scoped>\n",
       "    .dataframe tbody tr th:only-of-type {\n",
       "        vertical-align: middle;\n",
       "    }\n",
       "\n",
       "    .dataframe tbody tr th {\n",
       "        vertical-align: top;\n",
       "    }\n",
       "\n",
       "    .dataframe thead th {\n",
       "        text-align: right;\n",
       "    }\n",
       "</style>\n",
       "<table border=\"1\" class=\"dataframe\">\n",
       "  <thead>\n",
       "    <tr style=\"text-align: right;\">\n",
       "      <th></th>\n",
       "      <th>state_province</th>\n",
       "      <th>name</th>\n",
       "      <th>country</th>\n",
       "      <th>web_pages</th>\n",
       "      <th>alpha_two_code</th>\n",
       "    </tr>\n",
       "  </thead>\n",
       "  <tbody>\n",
       "    <tr>\n",
       "      <th>0</th>\n",
       "      <td>Quebec</td>\n",
       "      <td>Cégep de Saint-Jérôme</td>\n",
       "      <td>Canada</td>\n",
       "      <td>https://www.cstj.qc.ca</td>\n",
       "      <td>CA</td>\n",
       "    </tr>\n",
       "    <tr>\n",
       "      <th>1</th>\n",
       "      <td>Quebec</td>\n",
       "      <td>Cégep de Saint-Jérôme</td>\n",
       "      <td>Canada</td>\n",
       "      <td>https://ccmt.cstj.qc.ca</td>\n",
       "      <td>CA</td>\n",
       "    </tr>\n",
       "    <tr>\n",
       "      <th>2</th>\n",
       "      <td>Quebec</td>\n",
       "      <td>Cégep de Saint-Jérôme</td>\n",
       "      <td>Canada</td>\n",
       "      <td>https://ccml.cstj.qc.ca</td>\n",
       "      <td>CA</td>\n",
       "    </tr>\n",
       "    <tr>\n",
       "      <th>3</th>\n",
       "      <td>Ontario</td>\n",
       "      <td>Lambton College</td>\n",
       "      <td>Canada</td>\n",
       "      <td>https://www.lambtoncollege.ca</td>\n",
       "      <td>CA</td>\n",
       "    </tr>\n",
       "  </tbody>\n",
       "</table>\n",
       "</div>"
      ],
      "text/plain": [
       "  state_province                   name country  \\\n",
       "0         Quebec  Cégep de Saint-Jérôme  Canada   \n",
       "1         Quebec  Cégep de Saint-Jérôme  Canada   \n",
       "2         Quebec  Cégep de Saint-Jérôme  Canada   \n",
       "3        Ontario        Lambton College  Canada   \n",
       "\n",
       "                       web_pages alpha_two_code  \n",
       "0         https://www.cstj.qc.ca             CA  \n",
       "1        https://ccmt.cstj.qc.ca             CA  \n",
       "2        https://ccml.cstj.qc.ca             CA  \n",
       "3  https://www.lambtoncollege.ca             CA  "
      ]
     },
     "execution_count": 9,
     "metadata": {},
     "output_type": "execute_result"
    }
   ],
   "source": [
    "df_uni_countries.head(4)"
   ]
  },
  {
   "cell_type": "code",
   "execution_count": 18,
   "metadata": {},
   "outputs": [
    {
     "data": {
      "text/plain": [
       "pandas.core.series.Series"
      ]
     },
     "execution_count": 18,
     "metadata": {},
     "output_type": "execute_result"
    }
   ],
   "source": [
    "type(df_uni_countries[\"web_pages\"])"
   ]
  },
  {
   "cell_type": "code",
   "execution_count": 10,
   "metadata": {},
   "outputs": [
    {
     "data": {
      "text/plain": [
       "'En la columna name hay 28 nombres de universidades duplicados.'"
      ]
     },
     "execution_count": 10,
     "metadata": {},
     "output_type": "execute_result"
    }
   ],
   "source": [
    "api.locating_duplicates_unis(df_uni_countries, \"name\")"
   ]
  },
  {
   "cell_type": "code",
   "execution_count": 11,
   "metadata": {},
   "outputs": [
    {
     "data": {
      "text/plain": [
       "'Ahora hay 0 duplicados.'"
      ]
     },
     "execution_count": 11,
     "metadata": {},
     "output_type": "execute_result"
    }
   ],
   "source": [
    "api.erasing_duplicates(df_uni_countries, \"name\")"
   ]
  },
  {
   "cell_type": "code",
   "execution_count": 12,
   "metadata": {},
   "outputs": [
    {
     "data": {
      "text/html": [
       "<div>\n",
       "<style scoped>\n",
       "    .dataframe tbody tr th:only-of-type {\n",
       "        vertical-align: middle;\n",
       "    }\n",
       "\n",
       "    .dataframe tbody tr th {\n",
       "        vertical-align: top;\n",
       "    }\n",
       "\n",
       "    .dataframe thead th {\n",
       "        text-align: right;\n",
       "    }\n",
       "</style>\n",
       "<table border=\"1\" class=\"dataframe\">\n",
       "  <thead>\n",
       "    <tr style=\"text-align: right;\">\n",
       "      <th></th>\n",
       "      <th>state_province</th>\n",
       "      <th>name</th>\n",
       "      <th>country</th>\n",
       "      <th>web_pages</th>\n",
       "      <th>alpha_two_code</th>\n",
       "    </tr>\n",
       "  </thead>\n",
       "  <tbody>\n",
       "    <tr>\n",
       "      <th>0</th>\n",
       "      <td>Quebec</td>\n",
       "      <td>Cégep de Saint-Jérôme</td>\n",
       "      <td>Canada</td>\n",
       "      <td>https://www.cstj.qc.ca</td>\n",
       "      <td>CA</td>\n",
       "    </tr>\n",
       "    <tr>\n",
       "      <th>3</th>\n",
       "      <td>Ontario</td>\n",
       "      <td>Lambton College</td>\n",
       "      <td>Canada</td>\n",
       "      <td>https://www.lambtoncollege.ca</td>\n",
       "      <td>CA</td>\n",
       "    </tr>\n",
       "    <tr>\n",
       "      <th>4</th>\n",
       "      <td>Nova Scotia</td>\n",
       "      <td>Acadia University</td>\n",
       "      <td>Canada</td>\n",
       "      <td>http://www.acadiau.ca/</td>\n",
       "      <td>CA</td>\n",
       "    </tr>\n",
       "    <tr>\n",
       "      <th>5</th>\n",
       "      <td>Ontario</td>\n",
       "      <td>Algonquin College</td>\n",
       "      <td>Canada</td>\n",
       "      <td>http://www.algonquincollege.com/</td>\n",
       "      <td>CA</td>\n",
       "    </tr>\n",
       "    <tr>\n",
       "      <th>6</th>\n",
       "      <td>British Columbia</td>\n",
       "      <td>Ashton College</td>\n",
       "      <td>Canada</td>\n",
       "      <td>http://www.ashtoncollege.com/</td>\n",
       "      <td>CA</td>\n",
       "    </tr>\n",
       "    <tr>\n",
       "      <th>...</th>\n",
       "      <td>...</td>\n",
       "      <td>...</td>\n",
       "      <td>...</td>\n",
       "      <td>...</td>\n",
       "      <td>...</td>\n",
       "    </tr>\n",
       "    <tr>\n",
       "      <th>2530</th>\n",
       "      <td>Buenos Aires</td>\n",
       "      <td>Universidad Nacional de Tres de Febrero</td>\n",
       "      <td>Argentina</td>\n",
       "      <td>http://www.untref.edu.ar/</td>\n",
       "      <td>AR</td>\n",
       "    </tr>\n",
       "    <tr>\n",
       "      <th>2531</th>\n",
       "      <td>Ciudad Autónoma de Buenos Aires</td>\n",
       "      <td>Universidad Torcuato di Tella</td>\n",
       "      <td>Argentina</td>\n",
       "      <td>http://www.utdt.edu/</td>\n",
       "      <td>AR</td>\n",
       "    </tr>\n",
       "    <tr>\n",
       "      <th>2532</th>\n",
       "      <td>Ciudad Autónoma de Buenos Aires</td>\n",
       "      <td>Universidad Tecnológica Nacional</td>\n",
       "      <td>Argentina</td>\n",
       "      <td>http://www.utn.edu.ar/</td>\n",
       "      <td>AR</td>\n",
       "    </tr>\n",
       "    <tr>\n",
       "      <th>2533</th>\n",
       "      <td>Ciudad Autónoma de Buenos Aires</td>\n",
       "      <td>Universidad Abierta Interamericana</td>\n",
       "      <td>Argentina</td>\n",
       "      <td>http://www.vaneduc.edu.ar/uai/</td>\n",
       "      <td>AR</td>\n",
       "    </tr>\n",
       "    <tr>\n",
       "      <th>2534</th>\n",
       "      <td>Unknown</td>\n",
       "      <td>Universidad Nacional de Villa María</td>\n",
       "      <td>Argentina</td>\n",
       "      <td>http://webs.satlink.com/usuarios/i/iiunvm/</td>\n",
       "      <td>AR</td>\n",
       "    </tr>\n",
       "  </tbody>\n",
       "</table>\n",
       "<p>2507 rows × 5 columns</p>\n",
       "</div>"
      ],
      "text/plain": [
       "                       state_province  \\\n",
       "0                              Quebec   \n",
       "3                             Ontario   \n",
       "4                         Nova Scotia   \n",
       "5                             Ontario   \n",
       "6                    British Columbia   \n",
       "...                               ...   \n",
       "2530                     Buenos Aires   \n",
       "2531  Ciudad Autónoma de Buenos Aires   \n",
       "2532  Ciudad Autónoma de Buenos Aires   \n",
       "2533  Ciudad Autónoma de Buenos Aires   \n",
       "2534                          Unknown   \n",
       "\n",
       "                                         name    country  \\\n",
       "0                       Cégep de Saint-Jérôme     Canada   \n",
       "3                             Lambton College     Canada   \n",
       "4                           Acadia University     Canada   \n",
       "5                           Algonquin College     Canada   \n",
       "6                              Ashton College     Canada   \n",
       "...                                       ...        ...   \n",
       "2530  Universidad Nacional de Tres de Febrero  Argentina   \n",
       "2531            Universidad Torcuato di Tella  Argentina   \n",
       "2532         Universidad Tecnológica Nacional  Argentina   \n",
       "2533       Universidad Abierta Interamericana  Argentina   \n",
       "2534      Universidad Nacional de Villa María  Argentina   \n",
       "\n",
       "                                       web_pages alpha_two_code  \n",
       "0                         https://www.cstj.qc.ca             CA  \n",
       "3                  https://www.lambtoncollege.ca             CA  \n",
       "4                         http://www.acadiau.ca/             CA  \n",
       "5               http://www.algonquincollege.com/             CA  \n",
       "6                  http://www.ashtoncollege.com/             CA  \n",
       "...                                          ...            ...  \n",
       "2530                   http://www.untref.edu.ar/             AR  \n",
       "2531                        http://www.utdt.edu/             AR  \n",
       "2532                      http://www.utn.edu.ar/             AR  \n",
       "2533              http://www.vaneduc.edu.ar/uai/             AR  \n",
       "2534  http://webs.satlink.com/usuarios/i/iiunvm/             AR  \n",
       "\n",
       "[2507 rows x 5 columns]"
      ]
     },
     "execution_count": 12,
     "metadata": {},
     "output_type": "execute_result"
    }
   ],
   "source": [
    "api.change_null(df_uni_countries, \"state_province\")"
   ]
  },
  {
   "cell_type": "code",
   "execution_count": 13,
   "metadata": {},
   "outputs": [],
   "source": [
    "df_uni_countries = api.incluir_coordenadas(df_uni_countries, \"state_province\")"
   ]
  },
  {
   "cell_type": "code",
   "execution_count": 14,
   "metadata": {},
   "outputs": [
    {
     "data": {
      "text/html": [
       "<div>\n",
       "<style scoped>\n",
       "    .dataframe tbody tr th:only-of-type {\n",
       "        vertical-align: middle;\n",
       "    }\n",
       "\n",
       "    .dataframe tbody tr th {\n",
       "        vertical-align: top;\n",
       "    }\n",
       "\n",
       "    .dataframe thead th {\n",
       "        text-align: right;\n",
       "    }\n",
       "</style>\n",
       "<table border=\"1\" class=\"dataframe\">\n",
       "  <thead>\n",
       "    <tr style=\"text-align: right;\">\n",
       "      <th></th>\n",
       "      <th>state_province</th>\n",
       "      <th>name</th>\n",
       "      <th>country</th>\n",
       "      <th>web_pages</th>\n",
       "      <th>alpha_two_code</th>\n",
       "      <th>latitud</th>\n",
       "      <th>longitud</th>\n",
       "    </tr>\n",
       "  </thead>\n",
       "  <tbody>\n",
       "    <tr>\n",
       "      <th>0</th>\n",
       "      <td>Quebec</td>\n",
       "      <td>Cégep de Saint-Jérôme</td>\n",
       "      <td>Canada</td>\n",
       "      <td>https://www.cstj.qc.ca</td>\n",
       "      <td>CA</td>\n",
       "      <td>52.476089</td>\n",
       "      <td>-71.825867</td>\n",
       "    </tr>\n",
       "    <tr>\n",
       "      <th>3</th>\n",
       "      <td>Ontario</td>\n",
       "      <td>Lambton College</td>\n",
       "      <td>Canada</td>\n",
       "      <td>https://www.lambtoncollege.ca</td>\n",
       "      <td>CA</td>\n",
       "      <td>50.000678</td>\n",
       "      <td>-86.000977</td>\n",
       "    </tr>\n",
       "    <tr>\n",
       "      <th>4</th>\n",
       "      <td>Nova Scotia</td>\n",
       "      <td>Acadia University</td>\n",
       "      <td>Canada</td>\n",
       "      <td>http://www.acadiau.ca/</td>\n",
       "      <td>CA</td>\n",
       "      <td>45.196040</td>\n",
       "      <td>-63.165379</td>\n",
       "    </tr>\n",
       "    <tr>\n",
       "      <th>5</th>\n",
       "      <td>Ontario</td>\n",
       "      <td>Algonquin College</td>\n",
       "      <td>Canada</td>\n",
       "      <td>http://www.algonquincollege.com/</td>\n",
       "      <td>CA</td>\n",
       "      <td>50.000678</td>\n",
       "      <td>-86.000977</td>\n",
       "    </tr>\n",
       "    <tr>\n",
       "      <th>6</th>\n",
       "      <td>British Columbia</td>\n",
       "      <td>Ashton College</td>\n",
       "      <td>Canada</td>\n",
       "      <td>http://www.ashtoncollege.com/</td>\n",
       "      <td>CA</td>\n",
       "      <td>55.001251</td>\n",
       "      <td>-125.002441</td>\n",
       "    </tr>\n",
       "  </tbody>\n",
       "</table>\n",
       "</div>"
      ],
      "text/plain": [
       "     state_province                   name country  \\\n",
       "0            Quebec  Cégep de Saint-Jérôme  Canada   \n",
       "3           Ontario        Lambton College  Canada   \n",
       "4       Nova Scotia      Acadia University  Canada   \n",
       "5           Ontario      Algonquin College  Canada   \n",
       "6  British Columbia         Ashton College  Canada   \n",
       "\n",
       "                          web_pages alpha_two_code    latitud    longitud  \n",
       "0            https://www.cstj.qc.ca             CA  52.476089  -71.825867  \n",
       "3     https://www.lambtoncollege.ca             CA  50.000678  -86.000977  \n",
       "4            http://www.acadiau.ca/             CA  45.196040  -63.165379  \n",
       "5  http://www.algonquincollege.com/             CA  50.000678  -86.000977  \n",
       "6     http://www.ashtoncollege.com/             CA  55.001251 -125.002441  "
      ]
     },
     "execution_count": 14,
     "metadata": {},
     "output_type": "execute_result"
    }
   ],
   "source": [
    "df_uni_countries.head()"
   ]
  },
  {
   "cell_type": "code",
   "execution_count": 15,
   "metadata": {},
   "outputs": [
    {
     "name": "stdout",
     "output_type": "stream",
     "text": [
      "Conexión realizada con éxito\n"
     ]
    }
   ],
   "source": [
    "api.create_bbdd(\"uni_countries\", \"AlumnaAdalab\")"
   ]
  },
  {
   "cell_type": "code",
   "execution_count": 16,
   "metadata": {},
   "outputs": [],
   "source": [
    "api.create_tables()"
   ]
  }
 ],
 "metadata": {
  "kernelspec": {
   "display_name": "base",
   "language": "python",
   "name": "python3"
  },
  "language_info": {
   "codemirror_mode": {
    "name": "ipython",
    "version": 3
   },
   "file_extension": ".py",
   "mimetype": "text/x-python",
   "name": "python",
   "nbconvert_exporter": "python",
   "pygments_lexer": "ipython3",
   "version": "3.9.7"
  },
  "orig_nbformat": 4
 },
 "nbformat": 4,
 "nbformat_minor": 2
}
